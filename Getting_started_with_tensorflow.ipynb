{
  "nbformat": 4,
  "nbformat_minor": 0,
  "metadata": {
    "colab": {
      "name": "Getting started with tensorflow.ipynb",
      "version": "0.3.2",
      "provenance": [],
      "include_colab_link": true
    },
    "kernelspec": {
      "name": "python3",
      "display_name": "Python 3"
    }
  },
  "cells": [
    {
      "cell_type": "markdown",
      "metadata": {
        "id": "view-in-github",
        "colab_type": "text"
      },
      "source": [
        "<a href=\"https://colab.research.google.com/github/dheerajgadhiraju/Getting_started_with_tensorflow/blob/master/Getting_started_with_tensorflow.ipynb\" target=\"_parent\"><img src=\"https://colab.research.google.com/assets/colab-badge.svg\" alt=\"Open In Colab\"/></a>"
      ]
    },
    {
      "metadata": {
        "id": "aOTeoWTrUVKw",
        "colab_type": "code",
        "colab": {}
      },
      "cell_type": "code",
      "source": [
        ""
      ],
      "execution_count": 0,
      "outputs": []
    },
    {
      "metadata": {
        "id": "m9JrjIHLUZJS",
        "colab_type": "text"
      },
      "cell_type": "markdown",
      "source": [
        "1. Testing your Tensorflow Installation"
      ]
    },
    {
      "metadata": {
        "id": "O-dnyfguUcrL",
        "colab_type": "code",
        "colab": {
          "base_uri": "https://localhost:8080/",
          "height": 34
        },
        "outputId": "a959b1e4-926a-4278-bfd6-5a88a906ebcf"
      },
      "cell_type": "code",
      "source": [
        "import tensorflow as tf\n",
        "hello = tf.constant(\"Hello TensorFlow!\")\n",
        "sess = tf.Session()\n",
        "print(sess.run(hello))"
      ],
      "execution_count": 1,
      "outputs": [
        {
          "output_type": "stream",
          "text": [
            "b'Hello TensorFlow!'\n"
          ],
          "name": "stdout"
        }
      ]
    },
    {
      "metadata": {
        "id": "rV3fPtn-Uz_e",
        "colab_type": "text"
      },
      "cell_type": "markdown",
      "source": [
        "First Working session"
      ]
    },
    {
      "metadata": {
        "id": "0QG735uIUwmq",
        "colab_type": "code",
        "colab": {
          "base_uri": "https://localhost:8080/",
          "height": 34
        },
        "outputId": "ddc96e7d-3bc7-462e-c955-bc3e1f32d850"
      },
      "cell_type": "code",
      "source": [
        "x = tf.constant(1, name='x')\n",
        "y = tf.Variable(x+9, name='y')\n",
        "\n",
        "model = tf.initialize_all_variables()\n",
        "\n",
        "with tf.Session() as session:\n",
        "  session.run(model)\n",
        "  print(session.run(y))"
      ],
      "execution_count": 7,
      "outputs": [
        {
          "output_type": "stream",
          "text": [
            "10\n"
          ],
          "name": "stdout"
        }
      ]
    },
    {
      "metadata": {
        "id": "wKYJGOHvVwfh",
        "colab_type": "code",
        "colab": {}
      },
      "cell_type": "code",
      "source": [
        ""
      ],
      "execution_count": 0,
      "outputs": []
    }
  ]
}